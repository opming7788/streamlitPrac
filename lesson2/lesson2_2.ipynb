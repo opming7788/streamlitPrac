{
 "cells": [
  {
   "cell_type": "code",
   "execution_count": 5,
   "metadata": {},
   "outputs": [
    {
     "name": "stdout",
     "output_type": "stream",
     "text": [
      "262.5\n"
     ]
    }
   ],
   "source": [
    "#學生總分為300\n",
    "#有些學生可以加分5%\n",
    "\n",
    "scores = int(input('請輸入學生分數(最高300分):'))\n",
    "is_add = input('學生是否符合加分條件?(y,n)')\n",
    "\n",
    "if is_add == 'y':\n",
    "    scores = scores * 1.05\n",
    "\n",
    "print(scores)\n"
   ]
  },
  {
   "cell_type": "code",
   "execution_count": 6,
   "metadata": {},
   "outputs": [
    {
     "name": "stdout",
     "output_type": "stream",
     "text": [
      "300\n"
     ]
    }
   ],
   "source": [
    "#學生總分為300\n",
    "#有些學生可以加分5%\n",
    "#如果加分超過300,就以300分為準\n",
    "\n",
    "scores = int(input('請輸入學生分數(最高300分):'))\n",
    "is_add = input('學生是否符合加分條件?(y,n)')\n",
    "\n",
    "if is_add == 'y':\n",
    "    scores = scores * 1.05\n",
    "    if scores > 300:\n",
    "        scores = 300\n",
    "\n",
    "print(scores)"
   ]
  },
  {
   "cell_type": "code",
   "execution_count": null,
   "metadata": {},
   "outputs": [],
   "source": [
    "#學生總分為300\n",
    "#有些學生可以加分5%\n",
    "#如果加分超過300,就以300分為準\n",
    "try:\n",
    "    #錯誤的寫法\n",
    "    scores = int(input('請輸入學生分數(最高300分):'))\n",
    "except ValueError:\n",
    "    print(\"格式錯誤\")\n",
    "\n",
    "is_add = input('學生是否符合加分條件?(y,n)')\n",
    "\n",
    "if is_add == 'y':\n",
    "    scores = scores * 1.05\n",
    "    if scores > 300:\n",
    "        scores = 300\n",
    "\n",
    "print(scores)"
   ]
  },
  {
   "cell_type": "code",
   "execution_count": null,
   "metadata": {},
   "outputs": [
    {
     "name": "stdout",
     "output_type": "stream",
     "text": [
      "格式錯誤\n",
      "應用程式結束\n"
     ]
    }
   ],
   "source": [
    "#學生總分為300\n",
    "#有些學生可以加分5%\n",
    "#如果加分超過300,就以300分為準\n",
    "try:\n",
    "    scores = int(input('請輸入學生分數(最高300分):'))\n",
    "    is_add = input('學生是否符合加分條件?(y,n)')\n",
    "\n",
    "    if is_add == 'y':\n",
    "        scores = scores * 1.05\n",
    "        if scores > 300:\n",
    "            scores = 300\n",
    "\n",
    "    print(scores)\n",
    "except ValueError:\n",
    "    print(\"格式錯誤\")\n",
    "\n",
    "print(\"應用程式結束\")\n",
    "\n"
   ]
  },
  {
   "cell_type": "code",
   "execution_count": null,
   "metadata": {},
   "outputs": [],
   "source": [
    "#學生總分為300\n",
    "#有些學生可以加分5%\n",
    "#如果加分超過300,就以300分為準\n",
    "try:\n",
    "    scores = int(input('請輸入學生分數(最高300分):'))\n",
    "    is_add = input('學生是否符合加分條件?(y,n)')\n",
    "\n",
    "    if is_add == 'y':\n",
    "        scores = scores * 1.05\n",
    "        if scores > 300:\n",
    "            scores = 300\n",
    "\n",
    "    print(scores)\n",
    "except ValueError:\n",
    "    print(\"格式錯誤\")\n",
    "except NameError:\n",
    "    print(\"名字錯誤\")\n",
    "except Exception:\n",
    "    print(\"不知明的錯誤\")\n",
    "\n",
    "\n",
    "print(\"應用程式結束\")\n",
    "\n"
   ]
  },
  {
   "cell_type": "code",
   "execution_count": 5,
   "metadata": {},
   "outputs": [
    {
     "name": "stdout",
     "output_type": "stream",
     "text": [
      "262.5\n",
      "應用程式結束\n"
     ]
    }
   ],
   "source": [
    "#學生總分為300\n",
    "#有些學生可以加分5%\n",
    "#如果加分超過300,就以300分為準\n",
    "try:\n",
    "    scores = int(input('請輸入學生分數(最高300分):'))    \n",
    "except Exception:\n",
    "    print(\"發生錯誤\")\n",
    "else:\n",
    "    is_add = input('學生是否符合加分條件?(y,n)')\n",
    "\n",
    "    if is_add == 'y':\n",
    "        scores = scores * 1.05\n",
    "        if scores > 300:\n",
    "            scores = 300\n",
    "\n",
    "    print(scores)\n",
    "\n",
    "\n",
    "print(\"應用程式結束\")\n",
    "\n"
   ]
  }
 ],
 "metadata": {
  "kernelspec": {
   "display_name": "base",
   "language": "python",
   "name": "python3"
  },
  "language_info": {
   "codemirror_mode": {
    "name": "ipython",
    "version": 3
   },
   "file_extension": ".py",
   "mimetype": "text/x-python",
   "name": "python",
   "nbconvert_exporter": "python",
   "pygments_lexer": "ipython3",
   "version": "3.12.2"
  }
 },
 "nbformat": 4,
 "nbformat_minor": 2
}
